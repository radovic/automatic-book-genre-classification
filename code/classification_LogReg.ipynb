{
 "cells": [
  {
   "cell_type": "markdown",
   "id": "2d476585",
   "metadata": {},
   "source": [
    "### Logistic Regression"
   ]
  },
  {
   "cell_type": "code",
   "execution_count": 41,
   "id": "31b0378c",
   "metadata": {},
   "outputs": [
    {
     "data": {
      "text/plain": [
       "OneVsRestClassifier(estimator=LogisticRegression())"
      ]
     },
     "execution_count": 41,
     "metadata": {},
     "output_type": "execute_result"
    }
   ],
   "source": [
    "from sklearn.linear_model import LogisticRegression\n",
    "\n",
    "# Fitting the model\n",
    "lr = LogisticRegression()    # L2 penalty term is the default choice\n",
    "\n",
    "clf_lr = OneVsRestClassifier(lr)  \n",
    "# Convert Y training set into a single array dataset\n",
    "clf_lr.fit(X_train, Y_train.argmax(axis=1))"
   ]
  },
  {
   "cell_type": "code",
   "execution_count": 45,
   "id": "fefde72b",
   "metadata": {},
   "outputs": [
    {
     "data": {
      "text/plain": [
       "array([ 1,  1,  2, ...,  1, 11,  9], dtype=int64)"
      ]
     },
     "execution_count": 45,
     "metadata": {},
     "output_type": "execute_result"
    }
   ],
   "source": [
    "Y_train.argmax(axis=1)"
   ]
  },
  {
   "cell_type": "code",
   "execution_count": 48,
   "id": "f0f3983d",
   "metadata": {},
   "outputs": [
    {
     "name": "stdout",
     "output_type": "stream",
     "text": [
      "Test accuaracy is 0.5143758765778401\n"
     ]
    }
   ],
   "source": [
    "from sklearn.metrics import classification_report, confusion_matrix, accuracy_score, precision_score, recall_score, f1_score\n",
    "\n",
    "Y_pred = clf_lr.predict(X_test)\n",
    "\n",
    "# Calculate test accuracy of the model\n",
    "# Convert Y test set into a single array dataset\n",
    "accuracy = accuracy_score(Y_test.argmax(axis=1),Y_pred)\n",
    "print('Test accuaracy is {}'.format(accuracy))"
   ]
  },
  {
   "cell_type": "code",
   "execution_count": 49,
   "id": "fc06e734",
   "metadata": {
    "scrolled": true
   },
   "outputs": [
    {
     "name": "stdout",
     "output_type": "stream",
     "text": [
      "0.5143758765778401\n"
     ]
    }
   ],
   "source": [
    "print(clf_lr.score(X_test,Y_test.argmax(axis=1)))"
   ]
  },
  {
   "cell_type": "code",
   "execution_count": 53,
   "id": "82c31dc2",
   "metadata": {},
   "outputs": [
    {
     "name": "stdout",
     "output_type": "stream",
     "text": [
      "[0.04651163 0.50433705 0.49411765 0.57010786 0.         0.19047619\n",
      " 0.02531646 0.         0.33333333 0.66004584 0.         0.47686833\n",
      " 0.15384615 0.54397394 0.50301811]\n",
      "0.5143758765778401\n",
      "0.4798174557359408\n"
     ]
    }
   ],
   "source": [
    "# Calculate F1 score of the model as dataset is imbalanced and uneven\n",
    "print(f1_score(Y_test.argmax(axis=1),Y_pred,average=None))\n",
    "print(f1_score(Y_test.argmax(axis=1),Y_pred,average='micro'))\n",
    "print(f1_score(Y_test.argmax(axis=1),Y_pred,average='weighted'))"
   ]
  },
  {
   "cell_type": "code",
   "execution_count": 50,
   "id": "6b2e9cd0",
   "metadata": {},
   "outputs": [
    {
     "name": "stdout",
     "output_type": "stream",
     "text": [
      "                       precision    recall  f1-score   support\n",
      "\n",
      "                humor       1.00      0.02      0.05        84\n",
      "    realistic fiction       0.40      0.67      0.50       609\n",
      "          non-fiction       0.84      0.35      0.49       120\n",
      "              mystery       0.55      0.59      0.57       311\n",
      "        coming of age       0.00      0.00      0.00         6\n",
      "                crime       0.56      0.11      0.19       122\n",
      "              romance       1.00      0.01      0.03        78\n",
      "              western       0.00      0.00      0.00        12\n",
      "               horror       0.65      0.22      0.33        98\n",
      "      science fiction       0.59      0.74      0.66       582\n",
      "             thriller       0.00      0.00      0.00        69\n",
      "           historical       0.67      0.37      0.48       181\n",
      "            adventure       0.43      0.09      0.15        32\n",
      "children's literature       0.52      0.58      0.54       290\n",
      "              fantasy       0.52      0.48      0.50       258\n",
      "\n",
      "             accuracy                           0.51      2852\n",
      "            macro avg       0.52      0.28      0.30      2852\n",
      "         weighted avg       0.55      0.51      0.48      2852\n",
      "\n"
     ]
    },
    {
     "name": "stderr",
     "output_type": "stream",
     "text": [
      "C:\\Users\\User\\anaconda3\\lib\\site-packages\\sklearn\\metrics\\_classification.py:1318: UndefinedMetricWarning: Precision and F-score are ill-defined and being set to 0.0 in labels with no predicted samples. Use `zero_division` parameter to control this behavior.\n",
      "  _warn_prf(average, modifier, msg_start, len(result))\n",
      "C:\\Users\\User\\anaconda3\\lib\\site-packages\\sklearn\\metrics\\_classification.py:1318: UndefinedMetricWarning: Precision and F-score are ill-defined and being set to 0.0 in labels with no predicted samples. Use `zero_division` parameter to control this behavior.\n",
      "  _warn_prf(average, modifier, msg_start, len(result))\n",
      "C:\\Users\\User\\anaconda3\\lib\\site-packages\\sklearn\\metrics\\_classification.py:1318: UndefinedMetricWarning: Precision and F-score are ill-defined and being set to 0.0 in labels with no predicted samples. Use `zero_division` parameter to control this behavior.\n",
      "  _warn_prf(average, modifier, msg_start, len(result))\n"
     ]
    }
   ],
   "source": [
    "# Classification report of the model\n",
    "print(classification_report(Y_test.argmax(axis=1),Y_pred,target_names=list(id2genre.values())))"
   ]
  },
  {
   "cell_type": "code",
   "execution_count": 36,
   "id": "113dd583",
   "metadata": {},
   "outputs": [
    {
     "data": {
      "text/plain": [
       "OneVsRestClassifier(estimator=LogisticRegression(C=1, penalty='l1',\n",
       "                                                 solver='liblinear'))"
      ]
     },
     "execution_count": 36,
     "metadata": {},
     "output_type": "execute_result"
    }
   ],
   "source": [
    "# Logisic regression with L1 penalty term\n",
    "clf_lr_l1 = OneVsRestClassifier(LogisticRegression(C=1, penalty='l1', solver='liblinear')) \n",
    "clf_lr_l1.fit(X_train, Y_train.argmax(axis=1))"
   ]
  },
  {
   "cell_type": "code",
   "execution_count": 51,
   "id": "8be80bbb",
   "metadata": {},
   "outputs": [
    {
     "name": "stdout",
     "output_type": "stream",
     "text": [
      "Test accuaracy is 0.49684431977559607\n",
      "0.49684431977559607\n",
      "0.46854834752816693\n"
     ]
    }
   ],
   "source": [
    "Y_pred_l1 = clf_lr_l1.predict(X_test)\n",
    "\n",
    "# Calculate test accuracy and F1 score of the model with L1 penalty term\n",
    "accuracy = accuracy_score(Y_test.argmax(axis=1),Y_pred_l1)\n",
    "\n",
    "print('Test accuaracy is {}'.format(accuracy))\n",
    "print(f1_score(Y_test.argmax(axis=1),Y_pred_l1,average='micro'))\n",
    "print(f1_score(Y_test.argmax(axis=1),Y_pred_l1,average='weighted'))"
   ]
  }
 ],
 "metadata": {
  "kernelspec": {
   "display_name": "Python 3 (ipykernel)",
   "language": "python",
   "name": "python3"
  },
  "language_info": {
   "codemirror_mode": {
    "name": "ipython",
    "version": 3
   },
   "file_extension": ".py",
   "mimetype": "text/x-python",
   "name": "python",
   "nbconvert_exporter": "python",
   "pygments_lexer": "ipython3",
   "version": "3.9.13"
  }
 },
 "nbformat": 4,
 "nbformat_minor": 5
}
