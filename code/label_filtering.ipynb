{
 "cells": [
  {
   "cell_type": "markdown",
   "id": "5581b252",
   "metadata": {},
   "source": [
    "# Labels (genres) EDA"
   ]
  },
  {
   "cell_type": "code",
   "execution_count": null,
   "id": "3dc01882",
   "metadata": {},
   "outputs": [],
   "source": [
    "import pandas as pd\n",
    "import ast\n",
    "import matplotlib.pyplot as plt\n",
    "import os"
   ]
  },
  {
   "cell_type": "code",
   "execution_count": null,
   "id": "8c02001d",
   "metadata": {},
   "outputs": [],
   "source": [
    "df = pd.read_csv('../data/dataset.csv')\n",
    "print(df)\n"
   ]
  },
  {
   "cell_type": "code",
   "execution_count": null,
   "id": "43b9eb4d",
   "metadata": {},
   "outputs": [],
   "source": [
    "genres = df['genres'].copy()\n",
    "print(genres)"
   ]
  },
  {
   "cell_type": "code",
   "execution_count": null,
   "id": "f4228332",
   "metadata": {},
   "outputs": [],
   "source": [
    "genres[genres==genres[3]]"
   ]
  },
  {
   "cell_type": "code",
   "execution_count": null,
   "id": "057fd46e",
   "metadata": {},
   "outputs": [],
   "source": [
    "print('There are ', str(len(genres[genres==genres[3]])), 'unlabeled books.')"
   ]
  },
  {
   "cell_type": "code",
   "execution_count": null,
   "id": "8fadca08",
   "metadata": {},
   "outputs": [],
   "source": [
    "# genres of each book are represented as a string representation of list, so it needs to be converted to list\n",
    "unique_genres_unfiltered = set()\n",
    "for index, value in genres.items():\n",
    "    genres_lowercase = [genre.lower() for genre in ast.literal_eval(value)]\n",
    "    genres[index] = genres_lowercase\n",
    "    unique_genres_unfiltered.update(genres_lowercase)"
   ]
  },
  {
   "cell_type": "code",
   "execution_count": null,
   "id": "958aa417",
   "metadata": {},
   "outputs": [],
   "source": [
    "print('There are ', str(len(unique_genres_unfiltered)), 'book genres in the data set.')"
   ]
  },
  {
   "cell_type": "code",
   "execution_count": null,
   "id": "625efc49",
   "metadata": {},
   "outputs": [],
   "source": [
    "# Counting the number of books of each genre\n",
    "def GetGenresFrequencies(unique_genres, genres):\n",
    "    \"\"\"\n",
    "    Input: \n",
    "        unique_genres: list/set of the possible genres\n",
    "        genres: labels(genres) of the books in the data set\n",
    "    \n",
    "    Output: Sorted dictionary of the book genres(keys) and their frequencies(values) in the data set\n",
    "    \"\"\"\n",
    "    genre_freq= {}\n",
    "    for genre in unique_genres:\n",
    "        for index, genres_list in genres.items():\n",
    "            genre_count = genres_list.count(genre)\n",
    "            if genre not in genre_freq:\n",
    "                genre_freq[genre] = genre_count\n",
    "            else:\n",
    "                genre_freq[genre] = genre_freq.get(genre) + genre_count  \n",
    "                \n",
    "    # Sort the frequency of the genres dictionart, such that most frequent ones appear first\n",
    "    genre_freq_sorted = dict(sorted(genre_freq.items(), key=lambda item: item[1], reverse=True))\n",
    "\n",
    "    return genre_freq_sorted"
   ]
  },
  {
   "cell_type": "code",
   "execution_count": null,
   "id": "351dcf85",
   "metadata": {},
   "outputs": [],
   "source": [
    "genre_freq_unfiltered = GetGenresFrequencies(unique_genres_unfiltered, genres)\n",
    "print(genre_freq_unfiltered)"
   ]
  },
  {
   "cell_type": "code",
   "execution_count": null,
   "id": "e9244909",
   "metadata": {},
   "outputs": [],
   "source": [
    "def PrintBooksOfCertainGenre(genre):\n",
    "    \"\"\"\n",
    "    Input: genre: type - string, specifies the genre for the book query\n",
    "    \"\"\"\n",
    "    for index, genres_list in genres.items():\n",
    "        if genres_list.count(genre)>0:\n",
    "            print(df.loc[df.index[index], 'name'])"
   ]
  },
  {
   "cell_type": "code",
   "execution_count": null,
   "id": "796a61bd",
   "metadata": {},
   "outputs": [],
   "source": [
    "def PrintAllGenresOfBookWihCertainGenre(genre):\n",
    "    \"\"\"\n",
    "    Input: genre - type:string, specifies the genre for the book query\n",
    "    \"\"\"\n",
    "    for index, genres_list in genres.items():\n",
    "        if genres_list.count(genre)>0:\n",
    "            print(df.loc[df.index[index], ['name', 'genres']])"
   ]
  },
  {
   "cell_type": "markdown",
   "id": "5d99485c",
   "metadata": {},
   "source": [
    "# Cleaning the data set (based on labels)"
   ]
  },
  {
   "cell_type": "code",
   "execution_count": null,
   "id": "2c8d1cd3",
   "metadata": {},
   "outputs": [],
   "source": [
    "# Drop the first column, as it contain only indices\n",
    "df.drop(labels=list(df)[0],axis=1, inplace = True)"
   ]
  },
  {
   "cell_type": "code",
   "execution_count": null,
   "id": "122aa1da",
   "metadata": {},
   "outputs": [],
   "source": [
    "# Set all lebels in the dataframe to the lowercase\n",
    "for index in df.index:\n",
    "    genres_lowercase = [genre.lower() for genre in ast.literal_eval(df.at[index,'genres'])]\n",
    "    df.at[index,'genres'] = genres_lowercase"
   ]
  },
  {
   "cell_type": "code",
   "execution_count": null,
   "id": "eef91227",
   "metadata": {},
   "outputs": [],
   "source": [
    "# Drop books that are not labeled\n",
    "df = df[df['genres'].map(lambda d: len(d)) > 0]\n",
    "df.reset_index(drop=True, inplace=True)"
   ]
  },
  {
   "cell_type": "code",
   "execution_count": null,
   "id": "de6a31c7",
   "metadata": {},
   "outputs": [],
   "source": [
    "df"
   ]
  },
  {
   "cell_type": "markdown",
   "id": "5c358be2",
   "metadata": {},
   "source": [
    "## Label filtering and mapping "
   ]
  },
  {
   "cell_type": "markdown",
   "id": "5863cd70",
   "metadata": {},
   "source": [
    "The most unfrequent and the broadest genres (which would make the data set extremely imbalanced) are dropped, and the rest are grouped around the broader genres."
   ]
  },
  {
   "cell_type": "code",
   "execution_count": null,
   "id": "81665a55",
   "metadata": {},
   "outputs": [],
   "source": [
    "genre_mapping = {\n",
    "                 'science fiction':'science fiction',\n",
    "                 'dystopia':'science fiction', \n",
    "                 'apocalyptic and post-apocalyptic fiction':'science fiction',\n",
    "                 'steampunk':'science fiction',\n",
    "                 'feminist science fiction':'science fiction',\n",
    "                 'cyberpunk':'science fiction',\n",
    "                 'military science fiction':'science fiction',\n",
    "                 'time travel':'science fiction',\n",
    "                 'hard science fiction':'science fiction',\n",
    "                \n",
    "                 'fantasy':'fantasy',\n",
    "                 'high fantasy':'fantasy',\n",
    "                 #'speculative fiction':'fantasy',\n",
    "                 'urban fantasy':'fantasy',\n",
    "                 'fantasy of manners':'fantasy',\n",
    "                 'contemporary fantasy':'fantasy',\n",
    "                 'fairy tale':'fantasy',\n",
    "                 'science fantasy':'fantasy',\n",
    "                 'lost world':'fantasy',\n",
    "                 'historical fantasy':'fantasy',\n",
    "                 'sword and sorcery':'fantasy',\n",
    "                 'dark fantasy':'fantasy',\n",
    "                 \n",
    "                 'mystery':'mystery',\n",
    "                 \n",
    "                 'thriller':'thriller',\n",
    "                 'suspense':'thriller',\n",
    "                 'techno-triller':'thriller',\n",
    "                 \n",
    "                 'true crime':'crime',\n",
    "                 'crime fiction':'crime',\n",
    "                 'detective fiction':'crime',\n",
    "                 'spy fiction':'crime', \n",
    "                 'historical whodunnit':'crime',\n",
    "                 'whodunit':'crime',\n",
    "                 'hardboiled':'crime',\n",
    "                 \n",
    "                 'historical novel':'historical', \n",
    "                 'historical fiction':'historical',\n",
    "                 'war novel':'historical',\n",
    "                 'post-holocaust':'historical',\n",
    "                 'wuxia':'historical',\n",
    "                 \n",
    "                 'horror':'horror',\n",
    "                 'gothic fiction':'horror', \n",
    "                 'vampire fiction':'horror',\n",
    "                 \n",
    "                 'romance novel':'romance', \n",
    "                 'paranormal romance':'romance',\n",
    "                 'historical romance':'romance',\n",
    "                 'regency romance':'romance',\n",
    "                 'scientific romance':'romance', \n",
    "                 'chivalric romance':'romance',\n",
    "                 \n",
    "                 'adventure':'adventure',\n",
    "                 'adventure novel':'adventure',\n",
    "                 \n",
    "                 'non-fiction':'non-fiction',\n",
    "                 'biography':'non-fiction', \n",
    "                 'autobiography':'non-fiction',\n",
    "                 'philosophy':'non-fiction',\n",
    "                 'personal journal':'non-fiction',\n",
    "                 'sports, Popular science':'non-fiction',\n",
    "                 'travel literature':'non-fiction',\n",
    "                 'mathematics':'non-fiction',\n",
    "                 'economics':'non-fiction',\n",
    "                 'politics':'non-fiction', \n",
    "                 'business':'non-fiction',\n",
    "                 'sociology':'non-fiction',\n",
    "                 'psychology':'non-fiction',\n",
    "                 'travel':'non-fiction',\n",
    "                 'psychology':'non-fiction',\n",
    "                 'science':'non-fiction',\n",
    "                 \n",
    "                 'comedy':'humor',\n",
    "                 'tragicomedy':'humor',\n",
    "                 'satire':'humor',\n",
    "                 'comic novel':'humor',\n",
    "                 'black comedy':'humor',\n",
    "                 'comics':'humor',\n",
    "                 'comic science fiction':'humor', \n",
    "                 'parody':'humor',\n",
    "                 \n",
    "                 'novel':'realistic fiction',\n",
    "                 'literary realism':'realistic fiction',\n",
    "                 'industrial novel':'realistic fiction',\n",
    "                 'social novel':'realistic fiction',\n",
    "                 'psychological novel':'realistic fiction',\n",
    "                 'roman à clef':'realistic fiction',\n",
    "                 \n",
    "                 'western':'western',\n",
    "                 'western fiction': 'western',\n",
    "                 \n",
    "                 'bildungsroman':'coming of age', \n",
    "                 'künstlerroman':'coming of age',\n",
    "                 \n",
    "                 \"children's literature\":\"children's literature\"\n",
    "                \n",
    "                }"
   ]
  },
  {
   "cell_type": "code",
   "execution_count": null,
   "id": "59481621",
   "metadata": {},
   "outputs": [],
   "source": [
    "# Map the genres as specified in the genre_mapping\n",
    "\n",
    "for index, value in df['genres'].items():\n",
    "    l_new = list()\n",
    "    for elem in value:\n",
    "        l_new.append(genre_mapping.get(elem))\n",
    "    df.at[index,'genres'] = l_new"
   ]
  },
  {
   "cell_type": "code",
   "execution_count": null,
   "id": "7e86ad48",
   "metadata": {},
   "outputs": [],
   "source": [
    "for idx, gnr in df['genres'].items():\n",
    "    \n",
    "    # Checking if there are some duplicated labels (as multiple labels from the original data set could have been\n",
    "    # mapped to one label) for the book and dropping them\n",
    "    non_duplicate_genres = list(set(gnr))\n",
    "    df.at[idx,'genres'] = non_duplicate_genres\n",
    "\n",
    "    # Cleaning None values in the genre lists\n",
    "    df.at[idx,'genres'] = [i for i in non_duplicate_genres if i is not None]\n",
    "        \n",
    "    \n",
    "# Dropping books that are left without label after the processing above\n",
    "df = df[df['genres'].map(lambda d: len(d)) > 0]\n",
    "df.reset_index(drop=True, inplace=True)"
   ]
  },
  {
   "cell_type": "code",
   "execution_count": null,
   "id": "8f955850",
   "metadata": {},
   "outputs": [],
   "source": [
    "# Saving the modified data set\n",
    "os.chdir('..')\n",
    "df.to_csv('./data/dataset_filtered_labels.csv')"
   ]
  },
  {
   "cell_type": "code",
   "execution_count": null,
   "id": "1bb554f1",
   "metadata": {},
   "outputs": [],
   "source": [
    "unique_genres = set()\n",
    "for index, value in df['genres'].items():\n",
    "    unique_genres.update(value)\n",
    "print('There are ', str(len(unique_genres)), 'book genres in the data set.')"
   ]
  },
  {
   "cell_type": "code",
   "execution_count": null,
   "id": "c6913a32",
   "metadata": {},
   "outputs": [],
   "source": [
    "genre_freq = GetGenresFrequencies(unique_genres, df['genres'])\n",
    "print(genre_freq)"
   ]
  },
  {
   "cell_type": "markdown",
   "id": "2e5c6744",
   "metadata": {},
   "source": [
    "## Visualisations"
   ]
  },
  {
   "cell_type": "code",
   "execution_count": null,
   "id": "b8f1d4bc",
   "metadata": {},
   "outputs": [],
   "source": [
    "plt.bar(range(len(genre_freq)), list(genre_freq.values()), align='center')\n",
    "plt.xticks(range(len(genre_freq)), list(genre_freq.keys()))\n",
    "plt.xticks(rotation=70)\n",
    "plt.title('Genres frequency among books')\n",
    "plt.xlabel('Genres')\n",
    "plt.ylabel('Number of books')\n",
    "plt.show()"
   ]
  },
  {
   "cell_type": "markdown",
   "id": "5bf1be8f",
   "metadata": {},
   "source": [
    "**Conclusion**: The dataset is rather imbalanced, which should be taken into account when implementing the models."
   ]
  }
 ],
 "metadata": {
  "kernelspec": {
   "display_name": "Python 3 (ipykernel)",
   "language": "python",
   "name": "python3"
  },
  "language_info": {
   "codemirror_mode": {
    "name": "ipython",
    "version": 3
   },
   "file_extension": ".py",
   "mimetype": "text/x-python",
   "name": "python",
   "nbconvert_exporter": "python",
   "pygments_lexer": "ipython3",
   "version": "3.9.13"
  }
 },
 "nbformat": 4,
 "nbformat_minor": 5
}
