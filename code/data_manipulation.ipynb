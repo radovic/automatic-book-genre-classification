{
 "cells": [
  {
   "cell_type": "markdown",
   "id": "c6b76c2a",
   "metadata": {},
   "source": [
    "# Data manipulation"
   ]
  },
  {
   "cell_type": "markdown",
   "id": "a91b0c66",
   "metadata": {},
   "source": [
    "## Preparing the dataset"
   ]
  },
  {
   "cell_type": "code",
   "execution_count": 1,
   "id": "65b34b39",
   "metadata": {},
   "outputs": [],
   "source": [
    "# defining path and CMU Book Summary Dataset dataset URL\n",
    "DATA_DIR = '../data/'\n",
    "DS_URL = 'https://www.cs.cmu.edu/~dbamman/data/booksummaries.tar.gz'"
   ]
  },
  {
   "cell_type": "code",
   "execution_count": 2,
   "id": "ba64711d",
   "metadata": {},
   "outputs": [],
   "source": [
    "# downloading the CMU-BSD\n",
    "import urllib.request\n",
    "import tarfile\n",
    "import json\n",
    "import os\n",
    "\n",
    "os.chdir(DATA_DIR)\n",
    "urllib.request.urlretrieve(DS_URL, 'booksummaries.tar.gz')\n",
    "targzf = tarfile.open('booksummaries.tar.gz')\n",
    "targzf.extractall('.')\n",
    "targzf.close()\n",
    "os.remove('booksummaries.tar.gz')"
   ]
  },
  {
   "cell_type": "code",
   "execution_count": 4,
   "id": "d2c3c1b0",
   "metadata": {},
   "outputs": [],
   "source": [
    "# loading the downloaded dataset\n",
    "os.chdir('booksummaries')\n",
    "txtfile = open('booksummaries.txt')\n",
    "\n",
    "wiki_ids, frbs_ids, names, authors, dates, genres, summaries = [], [], [], [], [], [], []\n",
    "\n",
    "for line in txtfile.readlines():\n",
    "    entry = line.split('\\t')\n",
    "    wiki_ids.append(entry[0])\n",
    "    frbs_ids.append(entry[1])\n",
    "    names.append(entry[2])\n",
    "    authors.append(entry[3])\n",
    "    dates.append(entry[4])\n",
    "    if entry[5].strip() != '': genres.append(list(json.loads(entry[5]).values()))\n",
    "    else: genres.append([])\n",
    "    summaries.append(entry[6].strip())\n",
    "\n",
    "txtfile.close()"
   ]
  },
  {
   "cell_type": "code",
   "execution_count": 5,
   "id": "87a40b4b",
   "metadata": {},
   "outputs": [],
   "source": [
    "# conversion to csv\n",
    "import pandas as pd\n",
    "import shutil\n",
    "\n",
    "dataset = pd.DataFrame({'wiki_id': wiki_ids, 'frbs_id': frbs_ids, 'name': names,\n",
    "                        'author': authors, 'date': dates, 'genres': genres, 'summary': summaries})\n",
    "\n",
    "os.chdir('..')\n",
    "dataset.to_csv('dataset.csv')\n",
    "shutil.rmtree(\"booksummaries\")"
   ]
  },
  {
   "cell_type": "markdown",
   "id": "84a80e56",
   "metadata": {},
   "source": [
    "## Visualization"
   ]
  },
  {
   "cell_type": "code",
   "execution_count": 8,
   "id": "4f333450",
   "metadata": {},
   "outputs": [],
   "source": [
    "import ast\n",
    "import pandas as pd\n",
    "\n",
    "# reading the dataset \n",
    "df = pd.read_csv('../data/dataset_filtered_labels.csv')"
   ]
  },
  {
   "cell_type": "code",
   "execution_count": 39,
   "id": "3d6210ae",
   "metadata": {},
   "outputs": [
    {
     "data": {
      "image/png": "[encoded data removed]",
      "text/plain": [
       "<Figure size 330x250 with 1 Axes>"
      ]
     },
     "metadata": {},
     "output_type": "display_data"
    }
   ],
   "source": [
    "genre_freq= {}\n",
    "for genre in genres:\n",
    "    for index, genres_list in df['genres'].items():\n",
    "        genre_count = genres_list.count(genre)\n",
    "        if genre not in genre_freq:\n",
    "            genre_freq[genre] = genre_count\n",
    "        else:\n",
    "            genre_freq[genre] = genre_freq.get(genre) + genre_count\n",
    "\n",
    "ybar = [genre_freq[k] for k in genres]\n",
    "ybar, genres = zip(*sorted(zip(ybar, genres), reverse=True))\n",
    "\n",
    "fig, ax = plt.subplots()\n",
    "bars = ax.bar(\n",
    "    x=genres,\n",
    "    height=ybar\n",
    ")\n",
    "\n",
    "plt.xticks(rotation=80)\n",
    "ax.spines['top'].set_visible(False)\n",
    "ax.spines['right'].set_visible(False)\n",
    "ax.spines['bottom'].set_visible(False)\n",
    "ax.spines['left'].set_visible(False)\n",
    "ax.tick_params(axis=u'both', which=u'both',length=0, labelsize=6)\n",
    "ax.get_yaxis().set_ticks([])\n",
    "\n",
    "for bar in bars:\n",
    "  ax.text(\n",
    "      bar.get_x() + bar.get_width() / 2,\n",
    "      bar.get_height() + 25,\n",
    "      bar.get_height(),\n",
    "      horizontalalignment='center',\n",
    "      size=4.5,\n",
    "      weight='bold'\n",
    "  )\n",
    "fig.savefig('../gfx/genrecounts.jpg', dpi=300)"
   ]
  }
 ],
 "metadata": {
  "kernelspec": {
   "display_name": "Python 3 (ipykernel)",
   "language": "python",
   "name": "python3"
  },
  "language_info": {
   "codemirror_mode": {
    "name": "ipython",
    "version": 3
   },
   "file_extension": ".py",
   "mimetype": "text/x-python",
   "name": "python",
   "nbconvert_exporter": "python",
   "pygments_lexer": "ipython3",
   "version": "3.10.6"
  }
 },
 "nbformat": 4,
 "nbformat_minor": 5
}
