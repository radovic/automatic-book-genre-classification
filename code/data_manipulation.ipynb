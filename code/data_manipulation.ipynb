{
 "cells": [
  {
   "cell_type": "markdown",
   "id": "c6b76c2a",
   "metadata": {},
   "source": [
    "# Data manipulation"
   ]
  },
  {
   "cell_type": "markdown",
   "id": "a91b0c66",
   "metadata": {},
   "source": [
    "## Preparing the dataset"
   ]
  },
  {
   "cell_type": "code",
   "execution_count": 1,
   "id": "65b34b39",
   "metadata": {},
   "outputs": [],
   "source": [
    "# defining path and CMU Book Summary Dataset dataset URL\n",
    "DATA_DIR = '../data/'\n",
    "DS_URL = 'https://www.cs.cmu.edu/~dbamman/data/booksummaries.tar.gz'"
   ]
  },
  {
   "cell_type": "code",
   "execution_count": 2,
   "id": "ba64711d",
   "metadata": {},
   "outputs": [],
   "source": [
    "# downloading the CMU-BSD\n",
    "import urllib.request\n",
    "import tarfile\n",
    "import json\n",
    "import os\n",
    "\n",
    "os.chdir(DATA_DIR)\n",
    "urllib.request.urlretrieve(DS_URL, 'booksummaries.tar.gz')\n",
    "targzf = tarfile.open('booksummaries.tar.gz')\n",
    "targzf.extractall('.')\n",
    "targzf.close()\n",
    "os.remove('booksummaries.tar.gz')"
   ]
  },
  {
   "cell_type": "code",
   "execution_count": 4,
   "id": "d2c3c1b0",
   "metadata": {},
   "outputs": [],
   "source": [
    "# loading the downloaded dataset\n",
    "os.chdir('booksummaries')\n",
    "txtfile = open('booksummaries.txt')\n",
    "\n",
    "wiki_ids, frbs_ids, names, authors, dates, genres, summaries = [], [], [], [], [], [], []\n",
    "\n",
    "for line in txtfile.readlines():\n",
    "    entry = line.split('\\t')\n",
    "    wiki_ids.append(entry[0])\n",
    "    frbs_ids.append(entry[1])\n",
    "    names.append(entry[2])\n",
    "    authors.append(entry[3])\n",
    "    dates.append(entry[4])\n",
    "    if entry[5].strip() != '': genres.append(list(json.loads(entry[5]).values()))\n",
    "    else: genres.append([])\n",
    "    summaries.append(entry[6].strip())\n",
    "\n",
    "txtfile.close()"
   ]
  },
  {
   "cell_type": "code",
   "execution_count": 5,
   "id": "87a40b4b",
   "metadata": {},
   "outputs": [],
   "source": [
    "# conversion to csv\n",
    "import pandas as pd\n",
    "import shutil\n",
    "\n",
    "dataset = pd.DataFrame({'wiki_id': wiki_ids, 'frbs_id': frbs_ids, 'name': names,\n",
    "                        'author': authors, 'date': dates, 'genres': genres, 'summary': summaries})\n",
    "\n",
    "os.chdir('..')\n",
    "dataset.to_csv('dataset.csv')\n",
    "shutil.rmtree(\"booksummaries\")"
   ]
  }
 ],
 "metadata": {
  "kernelspec": {
   "display_name": "Python 3 (ipykernel)",
   "language": "python",
   "name": "python3"
  },
  "language_info": {
   "codemirror_mode": {
    "name": "ipython",
    "version": 3
   },
   "file_extension": ".py",
   "mimetype": "text/x-python",
   "name": "python",
   "nbconvert_exporter": "python",
   "pygments_lexer": "ipython3",
   "version": "3.10.6"
  }
 },
 "nbformat": 4,
 "nbformat_minor": 5
}
