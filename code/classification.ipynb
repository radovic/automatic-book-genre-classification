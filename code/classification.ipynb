{
 "cells": [
  {
   "cell_type": "markdown",
   "id": "2fe2bd06",
   "metadata": {},
   "source": [
    "# Classification task"
   ]
  },
  {
   "cell_type": "code",
   "execution_count": null,
   "id": "ab1e1f3f",
   "metadata": {},
   "outputs": [],
   "source": [
    "# installation of packages\n",
    "!pip install nltk"
   ]
  },
  {
   "cell_type": "code",
   "execution_count": null,
   "id": "68770765",
   "metadata": {},
   "outputs": [],
   "source": [
    "# installation of NLTK data\n",
    "import nltk\n",
    "nltk.download('punkt')\n",
    "nltk.download('wordnet')\n",
    "nltk.download('stopwords')"
   ]
  },
  {
   "cell_type": "markdown",
   "id": "07fbf03f",
   "metadata": {},
   "source": [
    "## Data pre-processing"
   ]
  },
  {
   "cell_type": "code",
   "execution_count": 14,
   "id": "0f99e8fa",
   "metadata": {
    "scrolled": true
   },
   "outputs": [
    {
     "data": {
      "text/html": [
       "<div>\n",
       "<style scoped>\n",
       "    .dataframe tbody tr th:only-of-type {\n",
       "        vertical-align: middle;\n",
       "    }\n",
       "\n",
       "    .dataframe tbody tr th {\n",
       "        vertical-align: top;\n",
       "    }\n",
       "\n",
       "    .dataframe thead th {\n",
       "        text-align: right;\n",
       "    }\n",
       "</style>\n",
       "<table border=\"1\" class=\"dataframe\">\n",
       "  <thead>\n",
       "    <tr style=\"text-align: right;\">\n",
       "      <th></th>\n",
       "      <th>Unnamed: 0</th>\n",
       "      <th>wiki_id</th>\n",
       "      <th>frbs_id</th>\n",
       "      <th>name</th>\n",
       "      <th>author</th>\n",
       "      <th>date</th>\n",
       "      <th>genres</th>\n",
       "      <th>summary</th>\n",
       "    </tr>\n",
       "  </thead>\n",
       "  <tbody>\n",
       "    <tr>\n",
       "      <th>0</th>\n",
       "      <td>0</td>\n",
       "      <td>620</td>\n",
       "      <td>/m/0hhy</td>\n",
       "      <td>Animal Farm</td>\n",
       "      <td>George Orwell</td>\n",
       "      <td>1945-08-17</td>\n",
       "      <td>['humor', 'realistic fiction', \"children's lit...</td>\n",
       "      <td>Old Major, the old boar on the Manor Farm, cal...</td>\n",
       "    </tr>\n",
       "    <tr>\n",
       "      <th>1</th>\n",
       "      <td>1</td>\n",
       "      <td>843</td>\n",
       "      <td>/m/0k36</td>\n",
       "      <td>A Clockwork Orange</td>\n",
       "      <td>Anthony Burgess</td>\n",
       "      <td>1962</td>\n",
       "      <td>['humor', 'science fiction']</td>\n",
       "      <td>Alex, a teenager living in near-future England...</td>\n",
       "    </tr>\n",
       "    <tr>\n",
       "      <th>2</th>\n",
       "      <td>2</td>\n",
       "      <td>986</td>\n",
       "      <td>/m/0ldx</td>\n",
       "      <td>The Plague</td>\n",
       "      <td>Albert Camus</td>\n",
       "      <td>1947</td>\n",
       "      <td>['realistic fiction']</td>\n",
       "      <td>The text of The Plague is divided into five pa...</td>\n",
       "    </tr>\n",
       "    <tr>\n",
       "      <th>3</th>\n",
       "      <td>3</td>\n",
       "      <td>2080</td>\n",
       "      <td>/m/0wkt</td>\n",
       "      <td>A Fire Upon the Deep</td>\n",
       "      <td>Vernor Vinge</td>\n",
       "      <td>NaN</td>\n",
       "      <td>['science fiction', 'fantasy']</td>\n",
       "      <td>The novel posits that space around the Milky W...</td>\n",
       "    </tr>\n",
       "    <tr>\n",
       "      <th>4</th>\n",
       "      <td>4</td>\n",
       "      <td>2152</td>\n",
       "      <td>/m/0x5g</td>\n",
       "      <td>All Quiet on the Western Front</td>\n",
       "      <td>Erich Maria Remarque</td>\n",
       "      <td>1929-01-29</td>\n",
       "      <td>['historical', 'realistic fiction']</td>\n",
       "      <td>The book tells the story of Paul Bäumer, a Ger...</td>\n",
       "    </tr>\n",
       "  </tbody>\n",
       "</table>\n",
       "</div>"
      ],
      "text/plain": [
       "   Unnamed: 0  wiki_id  frbs_id                            name  \\\n",
       "0           0      620  /m/0hhy                     Animal Farm   \n",
       "1           1      843  /m/0k36              A Clockwork Orange   \n",
       "2           2      986  /m/0ldx                      The Plague   \n",
       "3           3     2080  /m/0wkt            A Fire Upon the Deep   \n",
       "4           4     2152  /m/0x5g  All Quiet on the Western Front   \n",
       "\n",
       "                 author        date  \\\n",
       "0         George Orwell  1945-08-17   \n",
       "1       Anthony Burgess        1962   \n",
       "2          Albert Camus        1947   \n",
       "3          Vernor Vinge         NaN   \n",
       "4  Erich Maria Remarque  1929-01-29   \n",
       "\n",
       "                                              genres  \\\n",
       "0  ['humor', 'realistic fiction', \"children's lit...   \n",
       "1                       ['humor', 'science fiction']   \n",
       "2                              ['realistic fiction']   \n",
       "3                     ['science fiction', 'fantasy']   \n",
       "4                ['historical', 'realistic fiction']   \n",
       "\n",
       "                                             summary  \n",
       "0  Old Major, the old boar on the Manor Farm, cal...  \n",
       "1  Alex, a teenager living in near-future England...  \n",
       "2  The text of The Plague is divided into five pa...  \n",
       "3  The novel posits that space around the Milky W...  \n",
       "4  The book tells the story of Paul Bäumer, a Ger...  "
      ]
     },
     "execution_count": 14,
     "metadata": {},
     "output_type": "execute_result"
    }
   ],
   "source": [
    "# Loading data\n",
    "import ast\n",
    "import pandas as pd\n",
    "\n",
    "# reading the dataset \n",
    "df = pd.read_csv('../data/dataset_filtered_labels.csv')\n",
    "\n",
    "# getting the list of genres \n",
    "genres = set()\n",
    "for v in df['genres'].values: genres = set(list(genres) + ast.literal_eval(v))\n",
    "genres = list(genres)\n",
    "\n",
    "# creating the mappings from genres to id and vice versa\n",
    "genre2id = {k:v for (v, k) in enumerate(genres)}\n",
    "id2genre = {k:v for (k, v) in enumerate(genres)}\n",
    "\n",
    "df.head()"
   ]
  },
  {
   "cell_type": "code",
   "execution_count": 15,
   "id": "34795859",
   "metadata": {},
   "outputs": [],
   "source": [
    "from sklearn.model_selection import train_test_split\n",
    "import numpy as np\n",
    "\n",
    "X = df['summary'].to_numpy() # corpus - predictor variables\n",
    "Y = np.full((X.shape[0], len(genres)), 0, dtype=int) # genres - target variables\n",
    "\n",
    "# populating Y\n",
    "genre_data = df['genres'].to_numpy() # genres assigned to works\n",
    "for idx in range(len(Y)):\n",
    "    genre_data[idx] = ast.literal_eval(genre_data[idx])\n",
    "    for g in genre_data[idx]: Y[idx][genre2id[g]] = 1\n",
    "\n",
    "# splitting dataset in train and test set\n",
    "X_train, X_test, Y_train, Y_test = train_test_split(X, Y, random_state=2023)"
   ]
  },
  {
   "cell_type": "code",
   "execution_count": 16,
   "id": "718bae91",
   "metadata": {
    "scrolled": true
   },
   "outputs": [],
   "source": [
    "from nltk import word_tokenize\n",
    "from nltk.stem import WordNetLemmatizer\n",
    "from sklearn.feature_extraction.text import TfidfVectorizer\n",
    "from nltk.corpus import stopwords\n",
    "\n",
    "# defining tokenizer which performs lemmatization and skips stop or/and non-alphabetic words\n",
    "class LemmaTokenizer:\n",
    "    def __init__(self):\n",
    "        self.stops = set(stopwords.words('english'))\n",
    "        self.wnl = WordNetLemmatizer()\n",
    "    def __call__(self, doc):\n",
    "        return [self.wnl.lemmatize(t) for t in word_tokenize(doc) if self.wnl.lemmatize(t) not in self.stops and t.isalpha()]\n",
    "    \n",
    "# defining TF-IDF vectorizer\n",
    "# we put threshold of 1% for term presence in summaries so we can filter out the least common terms\n",
    "# which can cause the overfitting of the classifier (this choice is backed by Zipf's law)\n",
    "vectorizer = TfidfVectorizer(tokenizer=LemmaTokenizer(), min_df=0.01)"
   ]
  },
  {
   "cell_type": "code",
   "execution_count": 17,
   "id": "42b94f4a",
   "metadata": {},
   "outputs": [
    {
     "name": "stdout",
     "output_type": "stream",
     "text": [
      "(8554, 2885) (2852, 2885)\n"
     ]
    }
   ],
   "source": [
    "X_train = vectorizer.fit_transform(X_train) # learning normalized TF-IDF weights\n",
    "X_test = vectorizer.transform(X_test) # calculating TF-IDF weights\n",
    "\n",
    "print(X_train.shape, X_test.shape)"
   ]
  },
  {
   "cell_type": "markdown",
   "id": "4ffe3450",
   "metadata": {},
   "source": [
    "## Classifiers"
   ]
  },
  {
   "cell_type": "markdown",
   "id": "769f634a",
   "metadata": {},
   "source": [
    "### Multinomial Naive Bayes"
   ]
  },
  {
   "cell_type": "code",
   "execution_count": 18,
   "id": "c70c32e1",
   "metadata": {},
   "outputs": [
    {
     "data": {
      "text/plain": [
       "0.15252454417952313"
      ]
     },
     "execution_count": 18,
     "metadata": {},
     "output_type": "execute_result"
    }
   ],
   "source": [
    "from sklearn.naive_bayes import ComplementNB\n",
    "from sklearn.multiclass import OneVsRestClassifier\n",
    "\n",
    "# defining the model and fitting\n",
    "base_twcnb = ComplementNB()\n",
    "clf = OneVsRestClassifier(base_twcnb)\n",
    "clf.fit(X_train, Y_train)\n",
    "\n",
    "clf.score(X_test, Y_test)"
   ]
  }
 ],
 "metadata": {
  "kernelspec": {
   "display_name": "Python 3 (ipykernel)",
   "language": "python",
   "name": "python3"
  },
  "language_info": {
   "codemirror_mode": {
    "name": "ipython",
    "version": 3
   },
   "file_extension": ".py",
   "mimetype": "text/x-python",
   "name": "python",
   "nbconvert_exporter": "python",
   "pygments_lexer": "ipython3",
   "version": "3.10.6"
  }
 },
 "nbformat": 4,
 "nbformat_minor": 5
}
{
 "cells": [
  {
   "cell_type": "markdown",
   "id": "2d476585",
   "metadata": {},
   "source": [
    "### Logistic Regression"
   ]
  },
  {
   "cell_type": "code",
   "execution_count": 41,
   "id": "31b0378c",
   "metadata": {},
   "outputs": [
    {
     "data": {
      "text/plain": [
       "OneVsRestClassifier(estimator=LogisticRegression())"
      ]
     },
     "execution_count": 41,
     "metadata": {},
     "output_type": "execute_result"
    }
   ],
   "source": [
    "from sklearn.linear_model import LogisticRegression\n",
    "\n",
    "# Fitting the model\n",
    "lr = LogisticRegression()    # L2 penalty term is the default choice\n",
    "\n",
    "clf_lr = OneVsRestClassifier(lr)  \n",
    "# Convert Y training set into a single array dataset\n",
    "clf_lr.fit(X_train, Y_train.argmax(axis=1))"
   ]
  },
  {
   "cell_type": "code",
   "execution_count": 45,
   "id": "fefde72b",
   "metadata": {},
   "outputs": [
    {
     "data": {
      "text/plain": [
       "array([ 1,  1,  2, ...,  1, 11,  9], dtype=int64)"
      ]
     },
     "execution_count": 45,
     "metadata": {},
     "output_type": "execute_result"
    }
   ],
   "source": [
    "Y_train.argmax(axis=1)"
   ]
  },
  {
   "cell_type": "code",
   "execution_count": 48,
   "id": "f0f3983d",
   "metadata": {},
   "outputs": [
    {
     "name": "stdout",
     "output_type": "stream",
     "text": [
      "Test accuaracy is 0.5143758765778401\n"
     ]
    }
   ],
   "source": [
    "from sklearn.metrics import classification_report, confusion_matrix, accuracy_score, precision_score, recall_score, f1_score\n",
    "\n",
    "Y_pred = clf_lr.predict(X_test)\n",
    "\n",
    "# Calculate test accuracy of the model\n",
    "# Convert Y test set into a single array dataset\n",
    "accuracy = accuracy_score(Y_test.argmax(axis=1),Y_pred)\n",
    "print('Test accuaracy is {}'.format(accuracy))"
   ]
  },
  {
   "cell_type": "code",
   "execution_count": 49,
   "id": "fc06e734",
   "metadata": {
    "scrolled": true
   },
   "outputs": [
    {
     "name": "stdout",
     "output_type": "stream",
     "text": [
      "0.5143758765778401\n"
     ]
    }
   ],
   "source": [
    "print(clf_lr.score(X_test,Y_test.argmax(axis=1)))"
   ]
  },
  {
   "cell_type": "code",
   "execution_count": 53,
   "id": "82c31dc2",
   "metadata": {},
   "outputs": [
    {
     "name": "stdout",
     "output_type": "stream",
     "text": [
      "[0.04651163 0.50433705 0.49411765 0.57010786 0.         0.19047619\n",
      " 0.02531646 0.         0.33333333 0.66004584 0.         0.47686833\n",
      " 0.15384615 0.54397394 0.50301811]\n",
      "0.5143758765778401\n",
      "0.4798174557359408\n"
     ]
    }
   ],
   "source": [
    "# Calculate F1 score of the model as dataset is imbalanced and uneven\n",
    "print(f1_score(Y_test.argmax(axis=1),Y_pred,average=None))\n",
    "print(f1_score(Y_test.argmax(axis=1),Y_pred,average='micro'))\n",
    "print(f1_score(Y_test.argmax(axis=1),Y_pred,average='weighted'))"
   ]
  },
  {
   "cell_type": "code",
   "execution_count": 50,
   "id": "6b2e9cd0",
   "metadata": {},
   "outputs": [
    {
     "name": "stdout",
     "output_type": "stream",
     "text": [
      "                       precision    recall  f1-score   support\n",
      "\n",
      "                humor       1.00      0.02      0.05        84\n",
      "    realistic fiction       0.40      0.67      0.50       609\n",
      "          non-fiction       0.84      0.35      0.49       120\n",
      "              mystery       0.55      0.59      0.57       311\n",
      "        coming of age       0.00      0.00      0.00         6\n",
      "                crime       0.56      0.11      0.19       122\n",
      "              romance       1.00      0.01      0.03        78\n",
      "              western       0.00      0.00      0.00        12\n",
      "               horror       0.65      0.22      0.33        98\n",
      "      science fiction       0.59      0.74      0.66       582\n",
      "             thriller       0.00      0.00      0.00        69\n",
      "           historical       0.67      0.37      0.48       181\n",
      "            adventure       0.43      0.09      0.15        32\n",
      "children's literature       0.52      0.58      0.54       290\n",
      "              fantasy       0.52      0.48      0.50       258\n",
      "\n",
      "             accuracy                           0.51      2852\n",
      "            macro avg       0.52      0.28      0.30      2852\n",
      "         weighted avg       0.55      0.51      0.48      2852\n",
      "\n"
     ]
    },
    {
     "name": "stderr",
     "output_type": "stream",
     "text": [
      "C:\\Users\\User\\anaconda3\\lib\\site-packages\\sklearn\\metrics\\_classification.py:1318: UndefinedMetricWarning: Precision and F-score are ill-defined and being set to 0.0 in labels with no predicted samples. Use `zero_division` parameter to control this behavior.\n",
      "  _warn_prf(average, modifier, msg_start, len(result))\n",
      "C:\\Users\\User\\anaconda3\\lib\\site-packages\\sklearn\\metrics\\_classification.py:1318: UndefinedMetricWarning: Precision and F-score are ill-defined and being set to 0.0 in labels with no predicted samples. Use `zero_division` parameter to control this behavior.\n",
      "  _warn_prf(average, modifier, msg_start, len(result))\n",
      "C:\\Users\\User\\anaconda3\\lib\\site-packages\\sklearn\\metrics\\_classification.py:1318: UndefinedMetricWarning: Precision and F-score are ill-defined and being set to 0.0 in labels with no predicted samples. Use `zero_division` parameter to control this behavior.\n",
      "  _warn_prf(average, modifier, msg_start, len(result))\n"
     ]
    }
   ],
   "source": [
    "# Classification report of the model\n",
    "print(classification_report(Y_test.argmax(axis=1),Y_pred,target_names=list(id2genre.values())))"
   ]
  },
  {
   "cell_type": "code",
   "execution_count": 36,
   "id": "113dd583",
   "metadata": {},
   "outputs": [
    {
     "data": {
      "text/plain": [
       "OneVsRestClassifier(estimator=LogisticRegression(C=1, penalty='l1',\n",
       "                                                 solver='liblinear'))"
      ]
     },
     "execution_count": 36,
     "metadata": {},
     "output_type": "execute_result"
    }
   ],
   "source": [
    "# Logisic regression with L1 penalty term\n",
    "clf_lr_l1 = OneVsRestClassifier(LogisticRegression(C=1, penalty='l1', solver='liblinear')) \n",
    "clf_lr_l1.fit(X_train, Y_train.argmax(axis=1))"
   ]
  },
  {
   "cell_type": "code",
   "execution_count": 51,
   "id": "8be80bbb",
   "metadata": {},
   "outputs": [
    {
     "name": "stdout",
     "output_type": "stream",
     "text": [
      "Test accuaracy is 0.49684431977559607\n",
      "0.49684431977559607\n",
      "0.46854834752816693\n"
     ]
    }
   ],
   "source": [
    "Y_pred_l1 = clf_lr_l1.predict(X_test)\n",
    "\n",
    "# Calculate test accuracy and F1 score of the model with L1 penalty term\n",
    "accuracy = accuracy_score(Y_test.argmax(axis=1),Y_pred_l1)\n",
    "\n",
    "print('Test accuaracy is {}'.format(accuracy))\n",
    "print(f1_score(Y_test.argmax(axis=1),Y_pred_l1,average='micro'))\n",
    "print(f1_score(Y_test.argmax(axis=1),Y_pred_l1,average='weighted'))"
   ]
  }
 ],
 "metadata": {
  "kernelspec": {
   "display_name": "Python 3 (ipykernel)",
   "language": "python",
   "name": "python3"
  },
  "language_info": {
   "codemirror_mode": {
    "name": "ipython",
    "version": 3
   },
   "file_extension": ".py",
   "mimetype": "text/x-python",
   "name": "python",
   "nbconvert_exporter": "python",
   "pygments_lexer": "ipython3",
   "version": "3.9.13"
  }
 },
 "nbformat": 4,
 "nbformat_minor": 5
}
